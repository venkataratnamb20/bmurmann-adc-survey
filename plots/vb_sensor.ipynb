{
 "cells": [
  {
   "cell_type": "code",
   "execution_count": 1,
   "metadata": {},
   "outputs": [
    {
     "name": "stderr",
     "output_type": "stream",
     "text": [
      "[ INFO ] : 2023-10-23 19:22:06,425 - __main__ - ADC for LIR8x8\n"
     ]
    }
   ],
   "source": [
    "import os\n",
    "import logging\n",
    "\n",
    "\n",
    "import numpy as np\n",
    "import matplotlib.pyplot as plt\n",
    "import seaborn as sns\n",
    "\n",
    "import pandas as pd\n",
    "\n",
    "logger = logging.getLogger(__name__)\n",
    "\n",
    "logging.basicConfig(\n",
    "    level=logging.INFO,\n",
    "    format=\"[ %(levelname)s ] : %(asctime)s - %(name)s - %(message)s\",\n",
    "    force=True\n",
    ")\n",
    "\n",
    "logger.info(\"ADC for LIR8x8\")"
   ]
  },
  {
   "cell_type": "code",
   "execution_count": 2,
   "metadata": {},
   "outputs": [
    {
     "data": {
      "text/html": [
       "<div>\n",
       "<style scoped>\n",
       "    .dataframe tbody tr th:only-of-type {\n",
       "        vertical-align: middle;\n",
       "    }\n",
       "\n",
       "    .dataframe tbody tr th {\n",
       "        vertical-align: top;\n",
       "    }\n",
       "\n",
       "    .dataframe thead th {\n",
       "        text-align: right;\n",
       "    }\n",
       "</style>\n",
       "<table border=\"1\" class=\"dataframe\">\n",
       "  <thead>\n",
       "    <tr style=\"text-align: right;\">\n",
       "      <th></th>\n",
       "      <th>YEAR</th>\n",
       "      <th>ID</th>\n",
       "      <th>TYPE</th>\n",
       "      <th>ARCHITECTURE</th>\n",
       "      <th>TECHNOLOGY</th>\n",
       "      <th>TITLE</th>\n",
       "      <th>ABSTRACT</th>\n",
       "      <th>AUTHORS</th>\n",
       "      <th>DOI</th>\n",
       "      <th>LINK</th>\n",
       "      <th>...</th>\n",
       "      <th>OSR</th>\n",
       "      <th>fsnyq [Hz]</th>\n",
       "      <th>fcenter [Hz]</th>\n",
       "      <th>P/fsnyq [pJ]</th>\n",
       "      <th>FOMW_lf [fJ/conv-step]</th>\n",
       "      <th>FOMW_hf [fJ/conv-step]</th>\n",
       "      <th>FOMS_lf [dB]</th>\n",
       "      <th>FOMS_hf [dB]</th>\n",
       "      <th>FOMW_hf/fsnyq</th>\n",
       "      <th>FOMS,hf+10log(fsnyq)</th>\n",
       "    </tr>\n",
       "  </thead>\n",
       "  <tbody>\n",
       "    <tr>\n",
       "      <th>0</th>\n",
       "      <td>1997</td>\n",
       "      <td>8.1</td>\n",
       "      <td>NQ</td>\n",
       "      <td>SAR</td>\n",
       "      <td>1</td>\n",
       "      <td>A MOSFET-only, 10 b, 200 ksample/s A/D convert...</td>\n",
       "      <td>The linearity of a successive approximation (S...</td>\n",
       "      <td>C. Hammerschmied, Q. Huang</td>\n",
       "      <td>10.1109/ISSCC.1997.585301</td>\n",
       "      <td>https://doi.org/10.1109/ISSCC.1997.585301</td>\n",
       "      <td>...</td>\n",
       "      <td>1.0</td>\n",
       "      <td>200000.0</td>\n",
       "      <td>NaN</td>\n",
       "      <td>60000.00</td>\n",
       "      <td>NaN</td>\n",
       "      <td>109339.803696</td>\n",
       "      <td>NaN</td>\n",
       "      <td>125.750188</td>\n",
       "      <td>0.546699</td>\n",
       "      <td>178.760487</td>\n",
       "    </tr>\n",
       "    <tr>\n",
       "      <th>1</th>\n",
       "      <td>1997</td>\n",
       "      <td>8.2</td>\n",
       "      <td>NQ</td>\n",
       "      <td>Folding</td>\n",
       "      <td>1.00 BiCMOS</td>\n",
       "      <td>A 12 b 50 M sample/s cascaded folding and inte...</td>\n",
       "      <td>The architecture of this 12 b ADC is based on ...</td>\n",
       "      <td>P. Vorenkamp, R. Roovers</td>\n",
       "      <td>10.1109/ISSCC.1997.585303</td>\n",
       "      <td>https://doi.org/10.1109/ISSCC.1997.585303</td>\n",
       "      <td>...</td>\n",
       "      <td>1.0</td>\n",
       "      <td>50000000.0</td>\n",
       "      <td>NaN</td>\n",
       "      <td>6000.00</td>\n",
       "      <td>NaN</td>\n",
       "      <td>4632.774155</td>\n",
       "      <td>NaN</td>\n",
       "      <td>143.208188</td>\n",
       "      <td>0.000093</td>\n",
       "      <td>220.197888</td>\n",
       "    </tr>\n",
       "    <tr>\n",
       "      <th>2</th>\n",
       "      <td>1997</td>\n",
       "      <td>8.3</td>\n",
       "      <td>NQ</td>\n",
       "      <td>Folding</td>\n",
       "      <td>0.5</td>\n",
       "      <td>A 170 mW 10 b 50 Msample/s CMOS ADC in 1 mm²</td>\n",
       "      <td>This 10 b AD-converter at a sample rate of 5O ...</td>\n",
       "      <td>K. Bult, A. Buchwald, J. Laskowski</td>\n",
       "      <td>10.1109/ISSCC.1997.585303</td>\n",
       "      <td>https://doi.org/10.1109/ISSCC.1997.585303</td>\n",
       "      <td>...</td>\n",
       "      <td>1.0</td>\n",
       "      <td>50000000.0</td>\n",
       "      <td>NaN</td>\n",
       "      <td>3400.00</td>\n",
       "      <td>NaN</td>\n",
       "      <td>8762.357220</td>\n",
       "      <td>NaN</td>\n",
       "      <td>135.206911</td>\n",
       "      <td>0.000175</td>\n",
       "      <td>212.196611</td>\n",
       "    </tr>\n",
       "    <tr>\n",
       "      <th>3</th>\n",
       "      <td>1997</td>\n",
       "      <td>8.4</td>\n",
       "      <td>NQ</td>\n",
       "      <td>Two-step</td>\n",
       "      <td>Bipolar</td>\n",
       "      <td>A 12 b 128 MSample/s ADC with 0.05 LSB DNL</td>\n",
       "      <td>This analog-to-digital converter uses integrat...</td>\n",
       "      <td>R. Jewett, K. Poulton, K.-C. Hsieh, J. Doernberg</td>\n",
       "      <td>10.1109/ISSCC.1997.585305</td>\n",
       "      <td>https://doi.org/10.1109/ISSCC.1997.585305</td>\n",
       "      <td>...</td>\n",
       "      <td>1.0</td>\n",
       "      <td>128000000.0</td>\n",
       "      <td>NaN</td>\n",
       "      <td>44531.25</td>\n",
       "      <td>NaN</td>\n",
       "      <td>65521.324450</td>\n",
       "      <td>NaN</td>\n",
       "      <td>128.903051</td>\n",
       "      <td>0.000512</td>\n",
       "      <td>209.975151</td>\n",
       "    </tr>\n",
       "    <tr>\n",
       "      <th>4</th>\n",
       "      <td>1997</td>\n",
       "      <td>8.8</td>\n",
       "      <td>NQ</td>\n",
       "      <td>Pipe</td>\n",
       "      <td>1.4</td>\n",
       "      <td>A 15 b 5 MSample/s low-spurious CMOS ADC</td>\n",
       "      <td>This 15b CMOS ADC at 5MSample/s has four stage...</td>\n",
       "      <td>S.-U. Kwak, B.-S. Song, K. Bacrania</td>\n",
       "      <td>10.1109/ISSCC.1997.585309</td>\n",
       "      <td>https://doi.org/10.1109/ISSCC.1997.585309</td>\n",
       "      <td>...</td>\n",
       "      <td>1.0</td>\n",
       "      <td>5000000.0</td>\n",
       "      <td>NaN</td>\n",
       "      <td>26000.00</td>\n",
       "      <td>NaN</td>\n",
       "      <td>1809.502089</td>\n",
       "      <td>NaN</td>\n",
       "      <td>157.739967</td>\n",
       "      <td>0.000362</td>\n",
       "      <td>224.729667</td>\n",
       "    </tr>\n",
       "  </tbody>\n",
       "</table>\n",
       "<p>5 rows × 36 columns</p>\n",
       "</div>"
      ],
      "text/plain": [
       "   YEAR   ID TYPE ARCHITECTURE   TECHNOLOGY  \\\n",
       "0  1997  8.1   NQ          SAR            1   \n",
       "1  1997  8.2   NQ      Folding  1.00 BiCMOS   \n",
       "2  1997  8.3   NQ      Folding          0.5   \n",
       "3  1997  8.4   NQ     Two-step      Bipolar   \n",
       "4  1997  8.8   NQ         Pipe          1.4   \n",
       "\n",
       "                                               TITLE  \\\n",
       "0  A MOSFET-only, 10 b, 200 ksample/s A/D convert...   \n",
       "1  A 12 b 50 M sample/s cascaded folding and inte...   \n",
       "2       A 170 mW 10 b 50 Msample/s CMOS ADC in 1 mm²   \n",
       "3         A 12 b 128 MSample/s ADC with 0.05 LSB DNL   \n",
       "4           A 15 b 5 MSample/s low-spurious CMOS ADC   \n",
       "\n",
       "                                            ABSTRACT  \\\n",
       "0  The linearity of a successive approximation (S...   \n",
       "1  The architecture of this 12 b ADC is based on ...   \n",
       "2  This 10 b AD-converter at a sample rate of 5O ...   \n",
       "3  This analog-to-digital converter uses integrat...   \n",
       "4  This 15b CMOS ADC at 5MSample/s has four stage...   \n",
       "\n",
       "                                            AUTHORS  \\\n",
       "0                        C. Hammerschmied, Q. Huang   \n",
       "1                          P. Vorenkamp, R. Roovers   \n",
       "2                K. Bult, A. Buchwald, J. Laskowski   \n",
       "3  R. Jewett, K. Poulton, K.-C. Hsieh, J. Doernberg   \n",
       "4               S.-U. Kwak, B.-S. Song, K. Bacrania   \n",
       "\n",
       "                         DOI                                       LINK  ...  \\\n",
       "0  10.1109/ISSCC.1997.585301  https://doi.org/10.1109/ISSCC.1997.585301  ...   \n",
       "1  10.1109/ISSCC.1997.585303  https://doi.org/10.1109/ISSCC.1997.585303  ...   \n",
       "2  10.1109/ISSCC.1997.585303  https://doi.org/10.1109/ISSCC.1997.585303  ...   \n",
       "3  10.1109/ISSCC.1997.585305  https://doi.org/10.1109/ISSCC.1997.585305  ...   \n",
       "4  10.1109/ISSCC.1997.585309  https://doi.org/10.1109/ISSCC.1997.585309  ...   \n",
       "\n",
       "   OSR   fsnyq [Hz]  fcenter [Hz]  P/fsnyq [pJ] FOMW_lf [fJ/conv-step]  \\\n",
       "0  1.0     200000.0           NaN      60000.00                    NaN   \n",
       "1  1.0   50000000.0           NaN       6000.00                    NaN   \n",
       "2  1.0   50000000.0           NaN       3400.00                    NaN   \n",
       "3  1.0  128000000.0           NaN      44531.25                    NaN   \n",
       "4  1.0    5000000.0           NaN      26000.00                    NaN   \n",
       "\n",
       "  FOMW_hf [fJ/conv-step]  FOMS_lf [dB]  FOMS_hf [dB]  FOMW_hf/fsnyq  \\\n",
       "0          109339.803696           NaN    125.750188       0.546699   \n",
       "1            4632.774155           NaN    143.208188       0.000093   \n",
       "2            8762.357220           NaN    135.206911       0.000175   \n",
       "3           65521.324450           NaN    128.903051       0.000512   \n",
       "4            1809.502089           NaN    157.739967       0.000362   \n",
       "\n",
       "   FOMS,hf+10log(fsnyq)  \n",
       "0            178.760487  \n",
       "1            220.197888  \n",
       "2            212.196611  \n",
       "3            209.975151  \n",
       "4            224.729667  \n",
       "\n",
       "[5 rows x 36 columns]"
      ]
     },
     "execution_count": 2,
     "metadata": {},
     "output_type": "execute_result"
    }
   ],
   "source": [
    "# Read latest survey data and concatenate ISSCC and VLSI data\n",
    "uri = \"https://github.com/bmurmann/ADC-survey/blob/main/xls/ADCsurvey_latest.xlsx?raw=true\"\n",
    "df1 = pd.read_excel(uri, sheet_name='ISSCC')\n",
    "df2 = pd.read_excel(uri, sheet_name='VLSI')\n",
    "df = pd.concat([df1, df2])\n",
    "df.head()"
   ]
  },
  {
   "cell_type": "code",
   "execution_count": 3,
   "metadata": {},
   "outputs": [
    {
     "name": "stdout",
     "output_type": "stream",
     "text": [
      "<class 'pandas.core.frame.DataFrame'>\n",
      "Index: 676 entries, 0 to 265\n",
      "Data columns (total 36 columns):\n",
      " #   Column                  Non-Null Count  Dtype  \n",
      "---  ------                  --------------  -----  \n",
      " 0   YEAR                    676 non-null    int64  \n",
      " 1   ID                      676 non-null    object \n",
      " 2   TYPE                    676 non-null    object \n",
      " 3   ARCHITECTURE            676 non-null    object \n",
      " 4   TECHNOLOGY              676 non-null    object \n",
      " 5   TITLE                   676 non-null    object \n",
      " 6   ABSTRACT                676 non-null    object \n",
      " 7   AUTHORS                 676 non-null    object \n",
      " 8   DOI                     676 non-null    object \n",
      " 9   LINK                    676 non-null    object \n",
      " 10  COMMENTS                676 non-null    object \n",
      " 11  VSUP1 [V]               309 non-null    float64\n",
      " 12  VSUP2 [V]               59 non-null     float64\n",
      " 13  VSUP3 [V]               7 non-null      float64\n",
      " 14  Csamp [pF]              471 non-null    object \n",
      " 15  AREA [mm^2]             645 non-null    object \n",
      " 16  SNDR_lf [dB]            120 non-null    float64\n",
      " 17  fin_hf [Hz]             675 non-null    float64\n",
      " 18  SNDR_hf [dB]            618 non-null    float64\n",
      " 19  SNR [dB]                225 non-null    float64\n",
      " 20  DR [dB]                 223 non-null    float64\n",
      " 21  -THD [dB]               74 non-null     float64\n",
      " 22  SFDR [dB]               340 non-null    float64\n",
      " 23  SNDR_plot [dB]          676 non-null    float64\n",
      " 24  P [W]                   675 non-null    float64\n",
      " 25  fs [Hz]                 676 non-null    float64\n",
      " 26  OSR                     675 non-null    float64\n",
      " 27  fsnyq [Hz]              676 non-null    float64\n",
      " 28  fcenter [Hz]            32 non-null     float64\n",
      " 29  P/fsnyq [pJ]            676 non-null    float64\n",
      " 30  FOMW_lf [fJ/conv-step]  120 non-null    float64\n",
      " 31  FOMW_hf [fJ/conv-step]  676 non-null    float64\n",
      " 32  FOMS_lf [dB]            120 non-null    float64\n",
      " 33  FOMS_hf [dB]            676 non-null    float64\n",
      " 34  FOMW_hf/fsnyq           674 non-null    float64\n",
      " 35  FOMS,hf+10log(fsnyq)    674 non-null    float64\n",
      "dtypes: float64(23), int64(1), object(12)\n",
      "memory usage: 195.4+ KB\n"
     ]
    }
   ],
   "source": [
    "df.info()"
   ]
  },
  {
   "cell_type": "code",
   "execution_count": 4,
   "metadata": {},
   "outputs": [],
   "source": [
    "# # SNDR vs conversion rate- scatter plot\n",
    "# sns.scatterplot(x='fs [Hz]', y='SNR [dB]', data=df)\n",
    "# # sns.scatterplot(x='fs [Hz]', y='SNDR_lf [dB]', data=df)\n",
    "# plt.show()"
   ]
  },
  {
   "cell_type": "code",
   "execution_count": 8,
   "metadata": {},
   "outputs": [],
   "source": [
    "df_1g = df[df['fs [Hz]'] < 100e6]"
   ]
  },
  {
   "cell_type": "code",
   "execution_count": 21,
   "metadata": {},
   "outputs": [
    {
     "data": {
      "text/plain": [
       "count    3.060000e+02\n",
       "mean     3.276117e+07\n",
       "std      5.716576e+08\n",
       "min      1.900000e-01\n",
       "25%      9.204464e+01\n",
       "50%      1.086667e+03\n",
       "75%      1.095000e+04\n",
       "max      1.000000e+10\n",
       "Name: P/fsnyq [pJ], dtype: float64"
      ]
     },
     "execution_count": 21,
     "metadata": {},
     "output_type": "execute_result"
    }
   ],
   "source": [
    "# df_1g['P [W]'].describe()\n",
    "df_1g['P/fsnyq [pJ]'].describe()"
   ]
  },
  {
   "cell_type": "code",
   "execution_count": 19,
   "metadata": {},
   "outputs": [
    {
     "data": {
      "text/plain": [
       "0"
      ]
     },
     "execution_count": 19,
     "metadata": {},
     "output_type": "execute_result"
    }
   ],
   "source": [
    "(df_1g['P [W]'] < 0).sum()"
   ]
  },
  {
   "cell_type": "code",
   "execution_count": 17,
   "metadata": {},
   "outputs": [
    {
     "data": {
      "text/plain": [
       "0      5.020919e-04\n",
       "1      1.255230e-02\n",
       "2      7.112971e-03\n",
       "3      2.384937e-01\n",
       "4      5.439330e-03\n",
       "           ...     \n",
       "261    7.196641e-05\n",
       "262    3.598315e-05\n",
       "263    4.141130e-07\n",
       "264    4.351453e-05\n",
       "265    5.020919e-04\n",
       "Name: P [W], Length: 676, dtype: float64"
      ]
     },
     "execution_count": 17,
     "metadata": {},
     "output_type": "execute_result"
    }
   ],
   "source": [
    "min_max_scaler('P [W]')"
   ]
  },
  {
   "cell_type": "code",
   "execution_count": 12,
   "metadata": {},
   "outputs": [
    {
     "data": {
      "text/plain": [
       "0     -0.172155\n",
       "1      0.064458\n",
       "2     -0.042347\n",
       "3      4.500949\n",
       "4     -0.075210\n",
       "         ...   \n",
       "261   -0.180601\n",
       "262   -0.181307\n",
       "263   -0.182006\n",
       "264   -0.181159\n",
       "265   -0.172155\n",
       "Name: P [W], Length: 676, dtype: float64"
      ]
     },
     "execution_count": 12,
     "metadata": {},
     "output_type": "execute_result"
    }
   ],
   "source": [
    "standard_scaler = lambda col='P [W]': (df[col]- df[col].mean())/df[col].std()\n",
    "min_max_scaler = lambda col: (df[col]-df[col].min())/(df[col].max()-df[col].min())\n",
    "\n",
    "# min_max_scaler('P [W]')*1000\n",
    "# s = standard_scaler()[standard_scaler() > 0]\n",
    "s = standard_scaler()\n",
    "s"
   ]
  },
  {
   "cell_type": "code",
   "execution_count": 14,
   "metadata": {},
   "outputs": [
    {
     "ename": "ValueError",
     "evalue": "s must be a scalar, or float array-like with the same size as x and y",
     "output_type": "error",
     "traceback": [
      "\u001b[0;31m---------------------------------------------------------------------------\u001b[0m",
      "\u001b[0;31mValueError\u001b[0m                                Traceback (most recent call last)",
      "\u001b[1;32m/workspaces/bmurmann-adc-survey/plots/vb_sensor.ipynb Cell 7\u001b[0m line \u001b[0;36m3\n\u001b[1;32m      <a href='vscode-notebook-cell://codespaces%2Bshiny-space-carnival-q46g6v6gvp6f4x94/workspaces/bmurmann-adc-survey/plots/vb_sensor.ipynb#W6sdnNjb2RlLXJlbW90ZQ%3D%3D?line=0'>1</a>\u001b[0m s \u001b[39m=\u001b[39m s\u001b[39m.\u001b[39munique()\n\u001b[1;32m      <a href='vscode-notebook-cell://codespaces%2Bshiny-space-carnival-q46g6v6gvp6f4x94/workspaces/bmurmann-adc-survey/plots/vb_sensor.ipynb#W6sdnNjb2RlLXJlbW90ZQ%3D%3D?line=1'>2</a>\u001b[0m s \u001b[39m=\u001b[39m \u001b[39mabs\u001b[39m(s\u001b[39m.\u001b[39mmin()) \u001b[39m+\u001b[39m s\n\u001b[0;32m----> <a href='vscode-notebook-cell://codespaces%2Bshiny-space-carnival-q46g6v6gvp6f4x94/workspaces/bmurmann-adc-survey/plots/vb_sensor.ipynb#W6sdnNjb2RlLXJlbW90ZQ%3D%3D?line=2'>3</a>\u001b[0m plt\u001b[39m.\u001b[39;49mscatter(x\u001b[39m=\u001b[39;49mdf_1g[\u001b[39m'\u001b[39;49m\u001b[39mfs [Hz]\u001b[39;49m\u001b[39m'\u001b[39;49m], y\u001b[39m=\u001b[39;49mdf_1g[\u001b[39m'\u001b[39;49m\u001b[39mSNR [dB]\u001b[39;49m\u001b[39m'\u001b[39;49m], \n\u001b[1;32m      <a href='vscode-notebook-cell://codespaces%2Bshiny-space-carnival-q46g6v6gvp6f4x94/workspaces/bmurmann-adc-survey/plots/vb_sensor.ipynb#W6sdnNjb2RlLXJlbW90ZQ%3D%3D?line=3'>4</a>\u001b[0m             s\u001b[39m=\u001b[39;49ms,\n\u001b[1;32m      <a href='vscode-notebook-cell://codespaces%2Bshiny-space-carnival-q46g6v6gvp6f4x94/workspaces/bmurmann-adc-survey/plots/vb_sensor.ipynb#W6sdnNjb2RlLXJlbW90ZQ%3D%3D?line=4'>5</a>\u001b[0m             \u001b[39m# c='AREA [mm^2]'\u001b[39;49;00m\n\u001b[1;32m      <a href='vscode-notebook-cell://codespaces%2Bshiny-space-carnival-q46g6v6gvp6f4x94/workspaces/bmurmann-adc-survey/plots/vb_sensor.ipynb#W6sdnNjb2RlLXJlbW90ZQ%3D%3D?line=5'>6</a>\u001b[0m             )\n\u001b[1;32m      <a href='vscode-notebook-cell://codespaces%2Bshiny-space-carnival-q46g6v6gvp6f4x94/workspaces/bmurmann-adc-survey/plots/vb_sensor.ipynb#W6sdnNjb2RlLXJlbW90ZQ%3D%3D?line=6'>7</a>\u001b[0m plt\u001b[39m.\u001b[39mshow()\n",
      "File \u001b[0;32m/workspaces/bmurmann-adc-survey/venv/lib/python3.10/site-packages/matplotlib/pyplot.py:3687\u001b[0m, in \u001b[0;36mscatter\u001b[0;34m(x, y, s, c, marker, cmap, norm, vmin, vmax, alpha, linewidths, edgecolors, plotnonfinite, data, **kwargs)\u001b[0m\n\u001b[1;32m   3668\u001b[0m \u001b[39m@_copy_docstring_and_deprecators\u001b[39m(Axes\u001b[39m.\u001b[39mscatter)\n\u001b[1;32m   3669\u001b[0m \u001b[39mdef\u001b[39;00m \u001b[39mscatter\u001b[39m(\n\u001b[1;32m   3670\u001b[0m     x: \u001b[39mfloat\u001b[39m \u001b[39m|\u001b[39m ArrayLike,\n\u001b[0;32m   (...)\u001b[0m\n\u001b[1;32m   3685\u001b[0m     \u001b[39m*\u001b[39m\u001b[39m*\u001b[39mkwargs,\n\u001b[1;32m   3686\u001b[0m ) \u001b[39m-\u001b[39m\u001b[39m>\u001b[39m PathCollection:\n\u001b[0;32m-> 3687\u001b[0m     __ret \u001b[39m=\u001b[39m gca()\u001b[39m.\u001b[39;49mscatter(\n\u001b[1;32m   3688\u001b[0m         x,\n\u001b[1;32m   3689\u001b[0m         y,\n\u001b[1;32m   3690\u001b[0m         s\u001b[39m=\u001b[39;49ms,\n\u001b[1;32m   3691\u001b[0m         c\u001b[39m=\u001b[39;49mc,\n\u001b[1;32m   3692\u001b[0m         marker\u001b[39m=\u001b[39;49mmarker,\n\u001b[1;32m   3693\u001b[0m         cmap\u001b[39m=\u001b[39;49mcmap,\n\u001b[1;32m   3694\u001b[0m         norm\u001b[39m=\u001b[39;49mnorm,\n\u001b[1;32m   3695\u001b[0m         vmin\u001b[39m=\u001b[39;49mvmin,\n\u001b[1;32m   3696\u001b[0m         vmax\u001b[39m=\u001b[39;49mvmax,\n\u001b[1;32m   3697\u001b[0m         alpha\u001b[39m=\u001b[39;49malpha,\n\u001b[1;32m   3698\u001b[0m         linewidths\u001b[39m=\u001b[39;49mlinewidths,\n\u001b[1;32m   3699\u001b[0m         edgecolors\u001b[39m=\u001b[39;49medgecolors,\n\u001b[1;32m   3700\u001b[0m         plotnonfinite\u001b[39m=\u001b[39;49mplotnonfinite,\n\u001b[1;32m   3701\u001b[0m         \u001b[39m*\u001b[39;49m\u001b[39m*\u001b[39;49m({\u001b[39m\"\u001b[39;49m\u001b[39mdata\u001b[39;49m\u001b[39m\"\u001b[39;49m: data} \u001b[39mif\u001b[39;49;00m data \u001b[39mis\u001b[39;49;00m \u001b[39mnot\u001b[39;49;00m \u001b[39mNone\u001b[39;49;00m \u001b[39melse\u001b[39;49;00m {}),\n\u001b[1;32m   3702\u001b[0m         \u001b[39m*\u001b[39;49m\u001b[39m*\u001b[39;49mkwargs,\n\u001b[1;32m   3703\u001b[0m     )\n\u001b[1;32m   3704\u001b[0m     sci(__ret)\n\u001b[1;32m   3705\u001b[0m     \u001b[39mreturn\u001b[39;00m __ret\n",
      "File \u001b[0;32m/workspaces/bmurmann-adc-survey/venv/lib/python3.10/site-packages/matplotlib/__init__.py:1465\u001b[0m, in \u001b[0;36m_preprocess_data.<locals>.inner\u001b[0;34m(ax, data, *args, **kwargs)\u001b[0m\n\u001b[1;32m   1462\u001b[0m \u001b[39m@functools\u001b[39m\u001b[39m.\u001b[39mwraps(func)\n\u001b[1;32m   1463\u001b[0m \u001b[39mdef\u001b[39;00m \u001b[39minner\u001b[39m(ax, \u001b[39m*\u001b[39margs, data\u001b[39m=\u001b[39m\u001b[39mNone\u001b[39;00m, \u001b[39m*\u001b[39m\u001b[39m*\u001b[39mkwargs):\n\u001b[1;32m   1464\u001b[0m     \u001b[39mif\u001b[39;00m data \u001b[39mis\u001b[39;00m \u001b[39mNone\u001b[39;00m:\n\u001b[0;32m-> 1465\u001b[0m         \u001b[39mreturn\u001b[39;00m func(ax, \u001b[39m*\u001b[39;49m\u001b[39mmap\u001b[39;49m(sanitize_sequence, args), \u001b[39m*\u001b[39;49m\u001b[39m*\u001b[39;49mkwargs)\n\u001b[1;32m   1467\u001b[0m     bound \u001b[39m=\u001b[39m new_sig\u001b[39m.\u001b[39mbind(ax, \u001b[39m*\u001b[39margs, \u001b[39m*\u001b[39m\u001b[39m*\u001b[39mkwargs)\n\u001b[1;32m   1468\u001b[0m     auto_label \u001b[39m=\u001b[39m (bound\u001b[39m.\u001b[39marguments\u001b[39m.\u001b[39mget(label_namer)\n\u001b[1;32m   1469\u001b[0m                   \u001b[39mor\u001b[39;00m bound\u001b[39m.\u001b[39mkwargs\u001b[39m.\u001b[39mget(label_namer))\n",
      "File \u001b[0;32m/workspaces/bmurmann-adc-survey/venv/lib/python3.10/site-packages/matplotlib/axes/_axes.py:4661\u001b[0m, in \u001b[0;36mAxes.scatter\u001b[0;34m(self, x, y, s, c, marker, cmap, norm, vmin, vmax, alpha, linewidths, edgecolors, plotnonfinite, **kwargs)\u001b[0m\n\u001b[1;32m   4657\u001b[0m s \u001b[39m=\u001b[39m np\u001b[39m.\u001b[39mma\u001b[39m.\u001b[39mravel(s)\n\u001b[1;32m   4658\u001b[0m \u001b[39mif\u001b[39;00m (\u001b[39mlen\u001b[39m(s) \u001b[39mnot\u001b[39;00m \u001b[39min\u001b[39;00m (\u001b[39m1\u001b[39m, x\u001b[39m.\u001b[39msize) \u001b[39mor\u001b[39;00m\n\u001b[1;32m   4659\u001b[0m         (\u001b[39mnot\u001b[39;00m np\u001b[39m.\u001b[39missubdtype(s\u001b[39m.\u001b[39mdtype, np\u001b[39m.\u001b[39mfloating) \u001b[39mand\u001b[39;00m\n\u001b[1;32m   4660\u001b[0m          \u001b[39mnot\u001b[39;00m np\u001b[39m.\u001b[39missubdtype(s\u001b[39m.\u001b[39mdtype, np\u001b[39m.\u001b[39minteger))):\n\u001b[0;32m-> 4661\u001b[0m     \u001b[39mraise\u001b[39;00m \u001b[39mValueError\u001b[39;00m(\n\u001b[1;32m   4662\u001b[0m         \u001b[39m\"\u001b[39m\u001b[39ms must be a scalar, \u001b[39m\u001b[39m\"\u001b[39m\n\u001b[1;32m   4663\u001b[0m         \u001b[39m\"\u001b[39m\u001b[39mor float array-like with the same size as x and y\u001b[39m\u001b[39m\"\u001b[39m)\n\u001b[1;32m   4665\u001b[0m \u001b[39m# get the original edgecolor the user passed before we normalize\u001b[39;00m\n\u001b[1;32m   4666\u001b[0m orig_edgecolor \u001b[39m=\u001b[39m edgecolors\n",
      "\u001b[0;31mValueError\u001b[0m: s must be a scalar, or float array-like with the same size as x and y"
     ]
    },
    {
     "data": {
      "image/png": "[encoded data removed]",
      "text/plain": [
       "<Figure size 640x480 with 1 Axes>"
      ]
     },
     "metadata": {},
     "output_type": "display_data"
    }
   ],
   "source": [
    "s = s.unique()\n",
    "s = abs(s.min()) + s\n",
    "plt.scatter(x=df_1g['fs [Hz]'], y=df_1g['SNR [dB]'], \n",
    "            s=s,\n",
    "            # c='AREA [mm^2]'\n",
    "            )\n",
    "plt.show()"
   ]
  },
  {
   "cell_type": "code",
   "execution_count": null,
   "metadata": {},
   "outputs": [
    {
     "data": {
      "image/png": "[encoded data removed]",
      "text/plain": [
       "<Figure size 640x480 with 1 Axes>"
      ]
     },
     "metadata": {},
     "output_type": "display_data"
    }
   ],
   "source": [
    "plt.boxplot(df['fs [Hz]'])\n",
    "plt.show()"
   ]
  },
  {
   "cell_type": "code",
   "execution_count": null,
   "metadata": {},
   "outputs": [
    {
     "data": {
      "text/plain": [
       "{'bodies': [<matplotlib.collections.PolyCollection at 0x7f07f2189f00>],\n",
       " 'cmaxes': <matplotlib.collections.LineCollection at 0x7f07f2189ed0>,\n",
       " 'cmins': <matplotlib.collections.LineCollection at 0x7f07f218a5f0>,\n",
       " 'cbars': <matplotlib.collections.LineCollection at 0x7f07f218a8f0>}"
      ]
     },
     "execution_count": 16,
     "metadata": {},
     "output_type": "execute_result"
    },
    {
     "data": {
      "image/png": "[encoded data removed]",
      "text/plain": [
       "<Figure size 640x480 with 1 Axes>"
      ]
     },
     "metadata": {},
     "output_type": "display_data"
    }
   ],
   "source": [
    "plt.violinplot(df['fs [Hz]'])"
   ]
  },
  {
   "cell_type": "code",
   "execution_count": null,
   "metadata": {},
   "outputs": [
    {
     "data": {
      "text/plain": [
       "(array([458.,  69.,  22.,  17.,  14.,   9.,   4.,  13.,  13.,   1.,   7.,\n",
       "          2.,   0.,   1.,   3.,   2.,   1.,   9.,   3.,   0.,   0.,   1.,\n",
       "          0.,   0.,   0.,   0.,   0.,   0.,   2.,   0.,   0.,   0.,   1.,\n",
       "          0.,   0.,   4.,   0.,   0.,   0.,   1.,   0.,   0.,   3.,   0.,\n",
       "          2.,   0.,   0.,   0.,   0.,   2.,   0.,   0.,   0.,   1.,   0.,\n",
       "          0.,   0.,   1.,   0.,   0.,   0.,   0.,   0.,   0.,   0.,   0.,\n",
       "          0.,   0.,   0.,   0.,   0.,   3.,   0.,   0.,   0.,   0.,   0.,\n",
       "          0.,   0.,   0.,   0.,   0.,   1.,   0.,   0.,   0.,   0.,   0.,\n",
       "          0.,   0.,   0.,   0.,   0.,   0.,   0.,   0.,   0.,   0.,   0.,\n",
       "          1.,   0.,   0.,   0.,   0.,   0.,   0.,   0.,   0.,   0.,   0.,\n",
       "          0.,   0.,   0.,   0.,   1.,   0.,   0.,   0.,   0.,   0.,   0.,\n",
       "          0.,   0.,   0.,   0.,   0.,   0.,   0.,   1.,   0.,   0.,   0.,\n",
       "          0.,   0.,   0.,   0.,   0.,   0.,   0.,   0.,   0.,   0.,   0.,\n",
       "          0.,   0.,   0.,   0.,   0.,   0.,   0.,   0.,   0.,   0.,   0.,\n",
       "          0.,   0.,   0.,   0.,   0.,   0.,   1.,   0.,   0.,   0.,   0.,\n",
       "          0.,   0.,   0.,   0.,   0.,   0.,   0.,   0.,   0.,   0.,   0.,\n",
       "          0.,   0.,   1.,   0.,   0.,   0.,   0.,   0.,   0.,   0.,   0.,\n",
       "          0.,   0.,   0.,   0.,   0.,   0.,   0.,   0.,   0.,   0.,   0.,\n",
       "          0.,   1.]),\n",
       " array([4.00000000e+02, 5.60000398e+08, 1.12000040e+09, 1.68000039e+09,\n",
       "        2.24000039e+09, 2.80000039e+09, 3.36000039e+09, 3.92000039e+09,\n",
       "        4.48000038e+09, 5.04000038e+09, 5.60000038e+09, 6.16000038e+09,\n",
       "        6.72000038e+09, 7.28000037e+09, 7.84000037e+09, 8.40000037e+09,\n",
       "        8.96000037e+09, 9.52000037e+09, 1.00800004e+10, 1.06400004e+10,\n",
       "        1.12000004e+10, 1.17600004e+10, 1.23200004e+10, 1.28800004e+10,\n",
       "        1.34400004e+10, 1.40000004e+10, 1.45600003e+10, 1.51200003e+10,\n",
       "        1.56800003e+10, 1.62400003e+10, 1.68000003e+10, 1.73600003e+10,\n",
       "        1.79200003e+10, 1.84800003e+10, 1.90400003e+10, 1.96000003e+10,\n",
       "        2.01600003e+10, 2.07200003e+10, 2.12800003e+10, 2.18400003e+10,\n",
       "        2.24000003e+10, 2.29600003e+10, 2.35200003e+10, 2.40800003e+10,\n",
       "        2.46400003e+10, 2.52000003e+10, 2.57600003e+10, 2.63200003e+10,\n",
       "        2.68800003e+10, 2.74400003e+10, 2.80000003e+10, 2.85600003e+10,\n",
       "        2.91200003e+10, 2.96800003e+10, 3.02400003e+10, 3.08000003e+10,\n",
       "        3.13600003e+10, 3.19200003e+10, 3.24800003e+10, 3.30400003e+10,\n",
       "        3.36000003e+10, 3.41600003e+10, 3.47200003e+10, 3.52800003e+10,\n",
       "        3.58400003e+10, 3.64000003e+10, 3.69600003e+10, 3.75200003e+10,\n",
       "        3.80800003e+10, 3.86400003e+10, 3.92000003e+10, 3.97600003e+10,\n",
       "        4.03200003e+10, 4.08800003e+10, 4.14400003e+10, 4.20000002e+10,\n",
       "        4.25600002e+10, 4.31200002e+10, 4.36800002e+10, 4.42400002e+10,\n",
       "        4.48000002e+10, 4.53600002e+10, 4.59200002e+10, 4.64800002e+10,\n",
       "        4.70400002e+10, 4.76000002e+10, 4.81600002e+10, 4.87200002e+10,\n",
       "        4.92800002e+10, 4.98400002e+10, 5.04000002e+10, 5.09600002e+10,\n",
       "        5.15200002e+10, 5.20800002e+10, 5.26400002e+10, 5.32000002e+10,\n",
       "        5.37600002e+10, 5.43200002e+10, 5.48800002e+10, 5.54400002e+10,\n",
       "        5.60000002e+10, 5.65600002e+10, 5.71200002e+10, 5.76800002e+10,\n",
       "        5.82400002e+10, 5.88000002e+10, 5.93600002e+10, 5.99200002e+10,\n",
       "        6.04800002e+10, 6.10400002e+10, 6.16000002e+10, 6.21600002e+10,\n",
       "        6.27200002e+10, 6.32800002e+10, 6.38400002e+10, 6.44000002e+10,\n",
       "        6.49600002e+10, 6.55200002e+10, 6.60800002e+10, 6.66400002e+10,\n",
       "        6.72000002e+10, 6.77600002e+10, 6.83200002e+10, 6.88800002e+10,\n",
       "        6.94400002e+10, 7.00000002e+10, 7.05600001e+10, 7.11200001e+10,\n",
       "        7.16800001e+10, 7.22400001e+10, 7.28000001e+10, 7.33600001e+10,\n",
       "        7.39200001e+10, 7.44800001e+10, 7.50400001e+10, 7.56000001e+10,\n",
       "        7.61600001e+10, 7.67200001e+10, 7.72800001e+10, 7.78400001e+10,\n",
       "        7.84000001e+10, 7.89600001e+10, 7.95200001e+10, 8.00800001e+10,\n",
       "        8.06400001e+10, 8.12000001e+10, 8.17600001e+10, 8.23200001e+10,\n",
       "        8.28800001e+10, 8.34400001e+10, 8.40000001e+10, 8.45600001e+10,\n",
       "        8.51200001e+10, 8.56800001e+10, 8.62400001e+10, 8.68000001e+10,\n",
       "        8.73600001e+10, 8.79200001e+10, 8.84800001e+10, 8.90400001e+10,\n",
       "        8.96000001e+10, 9.01600001e+10, 9.07200001e+10, 9.12800001e+10,\n",
       "        9.18400001e+10, 9.24000001e+10, 9.29600001e+10, 9.35200001e+10,\n",
       "        9.40800001e+10, 9.46400001e+10, 9.52000001e+10, 9.57600001e+10,\n",
       "        9.63200001e+10, 9.68800001e+10, 9.74400001e+10, 9.80000000e+10,\n",
       "        9.85600000e+10, 9.91200000e+10, 9.96800000e+10, 1.00240000e+11,\n",
       "        1.00800000e+11, 1.01360000e+11, 1.01920000e+11, 1.02480000e+11,\n",
       "        1.03040000e+11, 1.03600000e+11, 1.04160000e+11, 1.04720000e+11,\n",
       "        1.05280000e+11, 1.05840000e+11, 1.06400000e+11, 1.06960000e+11,\n",
       "        1.07520000e+11, 1.08080000e+11, 1.08640000e+11, 1.09200000e+11,\n",
       "        1.09760000e+11, 1.10320000e+11, 1.10880000e+11, 1.11440000e+11,\n",
       "        1.12000000e+11]),\n",
       " <BarContainer object of 200 artists>)"
      ]
     },
     "execution_count": 23,
     "metadata": {},
     "output_type": "execute_result"
    },
    {
     "data": {
      "image/png": "[encoded data removed]",
      "text/plain": [
       "<Figure size 640x480 with 1 Axes>"
      ]
     },
     "metadata": {},
     "output_type": "display_data"
    }
   ],
   "source": [
    "plt.hist(df['fs [Hz]'], bins=200)"
   ]
  },
  {
   "cell_type": "code",
   "execution_count": null,
   "metadata": {},
   "outputs": [],
   "source": [
    "from dataclass import dataclass"
   ]
  }
 ],
 "metadata": {
  "kernelspec": {
   "display_name": "venv",
   "language": "python",
   "name": "python3"
  },
  "language_info": {
   "codemirror_mode": {
    "name": "ipython",
    "version": 3
   },
   "file_extension": ".py",
   "mimetype": "text/x-python",
   "name": "python",
   "nbconvert_exporter": "python",
   "pygments_lexer": "ipython3",
   "version": "3.10.8"
  }
 },
 "nbformat": 4,
 "nbformat_minor": 2
}
